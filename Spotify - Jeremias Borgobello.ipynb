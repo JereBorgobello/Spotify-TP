{
 "cells": [
  {
   "cell_type": "code",
   "execution_count": 41,
   "id": "d84804b0",
   "metadata": {},
   "outputs": [
    {
     "name": "stdout",
     "output_type": "stream",
     "text": [
      "               endTime                       artistName  \\\n",
      "0     2022-05-08 07:06                     Idina Menzel   \n",
      "1     2022-05-10 16:18                    Dexter Gordon   \n",
      "2     2022-05-11 15:28  The Cannonball Adderley Quintet   \n",
      "3     2022-05-11 15:32                  Dizzy Gillespie   \n",
      "4     2022-05-11 21:54                     Randy Newman   \n",
      "...                ...                              ...   \n",
      "9554  2023-05-11 23:54                     Benny Golson   \n",
      "9555  2023-05-11 23:54              Oscar Peterson Trio   \n",
      "9556  2023-05-11 23:54                       Chet Baker   \n",
      "9557  2023-05-11 23:54                    Sonny Rollins   \n",
      "9558  2023-05-11 23:54                         Almendra   \n",
      "\n",
      "                            trackName  msPlayed  \n",
      "0                       Show Yourself     30215  \n",
      "1                          Blue bossa    139449  \n",
      "2              Work Song - Remastered    307626  \n",
      "3     On The Sunny Side Of The Street    262774  \n",
      "4                      Monsters, Inc.       893  \n",
      "...                               ...       ...  \n",
      "9554              I Remember Clifford      4330  \n",
      "9555                      C Jam Blues      1216  \n",
      "9556   But Not For Me - Vocal Version      1194  \n",
      "9557                       St. Thomas      1749  \n",
      "9558                    Ana No Duerme     99768  \n",
      "\n",
      "[9559 rows x 4 columns]\n"
     ]
    }
   ],
   "source": [
    "import matplotlib.pyplot as plt\n",
    "import numpy as np\n",
    "import pandas as pd\n",
    "df = pd.read_csv(\"StreamingHistory.csv\")\n",
    "df.dropna(inplace = True)\n",
    "print(df)"
   ]
  },
  {
   "cell_type": "code",
   "execution_count": 38,
   "id": "8971257a",
   "metadata": {},
   "outputs": [],
   "source": [
    "artistName = list(df[\"artistName\"])\n",
    "trackName = list(df[\"trackName\"])\n",
    "endTime = pd.to_datetime(df[\"endTime\"])\n",
    "msPlayed = list(\"msPlayed\")"
   ]
  },
  {
   "cell_type": "code",
   "execution_count": null,
   "id": "d877f466",
   "metadata": {},
   "outputs": [],
   "source": []
  },
  {
   "cell_type": "code",
   "execution_count": null,
   "id": "dd87b81b",
   "metadata": {},
   "outputs": [],
   "source": []
  }
 ],
 "metadata": {
  "kernelspec": {
   "display_name": "Python 3 (ipykernel)",
   "language": "python",
   "name": "python3"
  },
  "language_info": {
   "codemirror_mode": {
    "name": "ipython",
    "version": 3
   },
   "file_extension": ".py",
   "mimetype": "text/x-python",
   "name": "python",
   "nbconvert_exporter": "python",
   "pygments_lexer": "ipython3",
   "version": "3.10.9"
  }
 },
 "nbformat": 4,
 "nbformat_minor": 5
}
