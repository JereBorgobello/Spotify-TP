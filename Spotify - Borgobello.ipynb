{
 "cells": [
  {
   "cell_type": "code",
   "execution_count": 245,
   "id": "f1fa451c-49cb-4e72-976f-1cee5753d7bc",
   "metadata": {},
   "outputs": [
    {
     "name": "stdout",
     "output_type": "stream",
     "text": [
      "               endTime                       artistName  \\\n",
      "0     2022-05-08 07:06                     Idina Menzel   \n",
      "1     2022-05-10 16:18                    Dexter Gordon   \n",
      "2     2022-05-11 15:28  The Cannonball Adderley Quintet   \n",
      "3     2022-05-11 15:32                  Dizzy Gillespie   \n",
      "4     2022-05-11 22:02                       Chet Baker   \n",
      "...                ...                              ...   \n",
      "5959  2023-05-11 21:48                    Charly García   \n",
      "5960  2023-05-11 21:51                         Almendra   \n",
      "5961  2023-05-11 21:55                         Almendra   \n",
      "5962  2023-05-11 21:58                         Almendra   \n",
      "5963  2023-05-11 23:54                         Almendra   \n",
      "\n",
      "                            trackName  msPlayed  \n",
      "0                       Show Yourself     30215  \n",
      "1                          Blue bossa    139449  \n",
      "2              Work Song - Remastered    307626  \n",
      "3     On The Sunny Side Of The Street    262774  \n",
      "4                       Autumn Leaves    422640  \n",
      "...                               ...       ...  \n",
      "5959         Nos Siguen Pegando Abajo    206720  \n",
      "5960          A Estos Hombres Tristes    133802  \n",
      "5961    Plegaria para un Niño Dormido    241066  \n",
      "5962         Muchacha (Ojos de Papel)    184480  \n",
      "5963                    Ana No Duerme     99768  \n",
      "\n",
      "[5964 rows x 4 columns]\n"
     ]
    }
   ],
   "source": [
    "import matplotlib.pyplot as plt\n",
    "import numpy as np\n",
    "import pandas as pd\n",
    "df = pd.read_csv(\"StreamingHistory.csv\")\n",
    "df.dropna(inplace = True) #elimina las entradas nulas / sin valor asignado en alguna columna\n",
    "df = df.loc[df[\"msPlayed\"] > 30000] #elimina los scrobbles de menos de 30 segundos\n",
    "df = df.reset_index() #reinicia el index\n",
    "df = df.drop(columns=\"index\") #borra columna que se crea\n",
    "print(df)"
   ]
  },
  {
   "cell_type": "code",
   "execution_count": 333,
   "id": "8971257a",
   "metadata": {},
   "outputs": [],
   "source": [
    "masEscuchadosArtistas = df.groupby(\"artistName\")[\"msPlayed\"].sum()\n",
    "masEscuchadosArtistas = masEscuchadosArtistas.drop(\"Philosophize This!\") #elimina Philosophize This! de los Artistas porque es un podcast\n",
    "masEscuchadosArtistas = masEscuchadosArtistas.sort_values(ascending = False) #ordena las filas para que los que mas minutos tengan aparezcan primeros\n",
    "\n",
    "masEscuchadosCanciones = df.groupby(\"trackName\")[\"msPlayed\"].sum()\n",
    "masEscuchadosCanciones = masEscuchadosCanciones.sort_values(ascending = False) #ordena las filas para que los que mas minutos tengan aparezcan primeros\n",
    "\n",
    "masEscuchado = list(masEscuchadosArtistas.keys()) #convierte a la variable en una lista con las keys\n",
    "masEscuchado = str(masEscuchado[0]) #convierte a la variable en el primer valor de la lista\n",
    "masEscuchadoTema = list(masEscuchadosCanciones.keys()) #convierte a la variable en una lista con las keys\n",
    "\n",
    "masEscuchadoDelMasEscuchado = df[df[\"artistName\"] == masEscuchado] #se fija los temas registrados bajo el artista más escuchado\n",
    "masEscuchadoDelMasEscuchado = masEscuchadoDelMasEscuchado.groupby(\"trackName\")[\"msPlayed\"].sum()\n",
    "masEscuchadoDelMasEscuchado = masEscuchadoDelMasEscuchado.sort_values(ascending = False) #ordena las filas para que los que mas minutos tengan aparezcan primeros\n",
    "masEscuchadoDelMasEscuchadoTema = list(masEscuchadoDelMasEscuchado.keys()) #asigna el valor de las keys a la variable como una lista\n",
    "masEscuchadoDelMasEscuchadoTema = masEscuchadoDelMasEscuchadoTema[0] #convierte a la variable al primer valor de la lista\n",
    "\n",
    "segundoMasEscuchado = list(masEscuchadosArtistas.keys()) #convierte a la variable en una lista con las keys\n",
    "segundoMasEscuchado = str(segundoMasEscuchado[1]) #convierte a la variable en el segundo valor de la lista\n",
    "masEscuchadoDelSegundoMasEscuchado = df[df[\"artistName\"] == segundoMasEscuchado] #se fija los temas registrados bajo el segundo artista más escuchado\n",
    "masEscuchadoDelSegundoMasEscuchado = masEscuchadoDelSegundoMasEscuchado.groupby(\"trackName\")[\"msPlayed\"].sum()\n",
    "masEscuchadoDelSegundoMasEscuchado = masEscuchadoDelSegundoMasEscuchado.sort_values(ascending = False) #ordena las filas para que los que mas minutos tengan aparezcan primeros\n",
    "masEscuchadoDelSegundoMasEscuchadoTema = list(masEscuchadoDelSegundoMasEscuchado.keys()) #asigna el valor de las keys a la variable como una lista\n",
    "masEscuchadoDelSegundoMasEscuchadoTema = masEscuchadoDelSegundoMasEscuchadoTema[0] #convierte a la variable al primer valor de la lista\n",
    "\n",
    "endTime = pd.to_datetime(df[\"endTime\"]) #crea una variable y asigna y convierte a la columna endTime a formato dateTime"
   ]
  },
  {
   "cell_type": "code",
   "execution_count": 331,
   "id": "fd9a0131-0353-4165-9bb7-68bcdcc69c85",
   "metadata": {},
   "outputs": [
    {
     "name": "stdout",
     "output_type": "stream",
     "text": [
      "1: Los tipos de valores son dateTime para endTime, object para artistName y trackName, y int para msPlayed\n"
     ]
    }
   ],
   "source": [
    "print(\"1: Los tipos de valores son dateTime para endTime, object para artistName y trackName, y int para msPlayed\")"
   ]
  },
  {
   "cell_type": "code",
   "execution_count": 334,
   "id": "f242138e-de54-436a-bb4a-ba701b4969f5",
   "metadata": {},
   "outputs": [
    {
     "name": "stdout",
     "output_type": "stream",
     "text": [
      "2: Las reproducciones son de entre  2022-05-08 07:06:00  y  2023-05-11 23:54:00\n"
     ]
    }
   ],
   "source": [
    "print(\"2: Las reproducciones son de entre \", endTime.min(), \" y \", endTime.max())"
   ]
  },
  {
   "cell_type": "code",
   "execution_count": 252,
   "id": "9e5bdfd7-86a7-41c7-b836-f34efd71e4d7",
   "metadata": {},
   "outputs": [
    {
     "name": "stdout",
     "output_type": "stream",
     "text": [
      "3: Se escucharon un total de  2180  canciones diferentes\n"
     ]
    }
   ],
   "source": [
    "n = set(trackName) #elimina los valores repetidos\n",
    "contadorUnicos = len(n) #cuenta cuantos valores totales hay después de la eliminación\n",
    "print(\"3: Se escucharon un total de \", contadorUnicos, \" canciones diferentes\")"
   ]
  },
  {
   "cell_type": "code",
   "execution_count": 143,
   "id": "1cacd0f7-5fd3-4898-a79d-1b1b4220fd74",
   "metadata": {},
   "outputs": [
    {
     "name": "stdout",
     "output_type": "stream",
     "text": [
      "4: Se escucharon un total de  1308843.206  segundos\n"
     ]
    }
   ],
   "source": [
    "msTotal = df[\"msPlayed\"].sum() #suma el total de minutos escuchados\n",
    "print(\"4: Se escucharon un total de \", msTotal / 1000 ,\" segundos\")"
   ]
  },
  {
   "cell_type": "code",
   "execution_count": 238,
   "id": "df0187b2-30d8-4825-aaaa-77ed6611952c",
   "metadata": {},
   "outputs": [
    {
     "name": "stdout",
     "output_type": "stream",
     "text": [
      "5: El artista más escuchado es  Charly García  con  38753.802  segundos escuchados\n"
     ]
    }
   ],
   "source": [
    "print(\"5: El artista más escuchado es \", masEscuchado, \" con \", masEscuchadosArtistas[0] / 1000, \" segundos escuchados\" )"
   ]
  },
  {
   "cell_type": "code",
   "execution_count": 191,
   "id": "39104674-ab68-4911-ade1-2e92f8bab0df",
   "metadata": {},
   "outputs": [
    {
     "name": "stdout",
     "output_type": "stream",
     "text": [
      "6: La canción más escuchada es  Spain  con  14901.345 segundos escuchados\n"
     ]
    },
    {
     "data": {
      "text/plain": [
       "trackName\n",
       "Spain    14901345\n",
       "Name: msPlayed, dtype: int64"
      ]
     },
     "execution_count": 191,
     "metadata": {},
     "output_type": "execute_result"
    }
   ],
   "source": [
    "print(\"6: La canción más escuchada es \", masEscuchadoTema[0], \" con \", masEscuchadosCanciones[0] / 1000, \"segundos escuchados\")"
   ]
  },
  {
   "cell_type": "code",
   "execution_count": 244,
   "id": "4d007a82-a496-49d5-be72-8b3a0c01c26b",
   "metadata": {},
   "outputs": [
    {
     "name": "stdout",
     "output_type": "stream",
     "text": [
      "7: La canción más escuchado del artista más escuchado es  Yo No Quiero Volverme Tan Loco  de  C  con  3520.431  segundos escuchados\n"
     ]
    }
   ],
   "source": [
    "print(\"7: La canción más escuchado del artista más escuchado es \", masEscuchadoDelMasEscuchadoTema, \" de \", masEscuchado, \" con \", masEscuchadoDelMasEscuchado[0] / 1000, \" segundos escuchados\")"
   ]
  },
  {
   "cell_type": "code",
   "execution_count": 286,
   "id": "082d5897-3069-4449-8fa9-b295704ce913",
   "metadata": {},
   "outputs": [
    {
     "name": "stdout",
     "output_type": "stream",
     "text": [
      "8: Los 10 artistas más escuchados son \n"
     ]
    },
    {
     "data": {
      "text/plain": [
       "artistName\n",
       "Charly García            38753802\n",
       "Childish Gambino         34156224\n",
       "Bizarrap                 25145449\n",
       "Serú Girán               23838500\n",
       "Red Hot Chili Peppers    23173160\n",
       "Trueno                   20899760\n",
       "Chick Corea              20210358\n",
       "Joe Satriani             18701614\n",
       "Talking Heads            18492563\n",
       "NATHY PELUSO             16736891\n",
       "Name: msPlayed, dtype: int64"
      ]
     },
     "execution_count": 309,
     "metadata": {},
     "output_type": "execute_result"
    }
   ],
   "source": [
    "print(\"8: Los 10 artistas más escuchados son \")\n",
    "masEscuchadosArtistas.head(10)"
   ]
  },
  {
   "cell_type": "code",
   "execution_count": 300,
   "id": "5bc4cde8-5ede-4943-9f86-8da358da5286",
   "metadata": {},
   "outputs": [
    {
     "data": {
      "image/png": "[encoded data removed]",
      "text/plain": [
       "<Figure size 432x288 with 1 Axes>"
      ]
     },
     "metadata": {
      "needs_background": "light"
     },
     "output_type": "display_data"
    }
   ],
   "source": [
    "n = masEscuchadosArtistas.keys() #convierte a la variable en una lista con las keys\n",
    "x = [n[0], n[1], n[2], n[3], n[4], n[5], n[6], n[7], n[8], n[9]] #asigna a los valores que van en el eje x/y teniendo en cuenta que esta en horizontal el grafico\n",
    "y = [masEscuchadosArtistas[0], masEscuchadosArtistas[1], masEscuchadosArtistas[2], masEscuchadosArtistas[3], masEscuchadosArtistas[4], masEscuchadosArtistas[5], masEscuchadosArtistas[6], masEscuchadosArtistas[7], masEscuchadosArtistas[8], masEscuchadosArtistas[9],]\n",
    "#asigna a los valores que van en el eje y/x teniendo en cuenta que esta en horizontal el grafico\n",
    "\n",
    "plt.barh(x,y) #crea el gráfico de barras horizontales\n",
    "plt.show() #hace que se muestre sólo el gráfico y no información adicional"
   ]
  },
  {
   "cell_type": "code",
   "execution_count": null,
   "id": "e8897298-ca81-431c-ad38-491308ba4f08",
   "metadata": {},
   "outputs": [
    {
     "name": "stdout",
     "output_type": "stream",
     "text": [
      "9: Las 10 canciones más escuchadas son \n"
     ]
    },
    {
     "data": {
      "text/plain": [
       "trackName\n",
       "Spain                                                         14901345\n",
       "Rain                                                          13200987\n",
       "Rubina                                                        12087379\n",
       "Virtual Insanity - Remastered                                  9673909\n",
       "Autumn Leaves                                                  9623104\n",
       "VIVIR ASÍ ES MORIR DE AMOR                                     8413852\n",
       "BUENOS AIRES                                                   8218739\n",
       "Li'l Darlin' - Live At The Tropicana Hotel, Las Vegas/1969     7952272\n",
       "The Maze                                                       7757900\n",
       "Sin Culpa (feat.DrefQuila)                                     7512604\n",
       "Name: msPlayed, dtype: int64"
      ]
     },
     "execution_count": 270,
     "metadata": {},
     "output_type": "execute_result"
    }
   ],
   "source": [
    "print(\"9: Las 10 canciones más escuchadas son \")\n",
    "masEscuchadosCanciones.head(10)"
   ]
  },
  {
   "cell_type": "code",
   "execution_count": 302,
   "id": "b3194b71-b734-409b-9728-19d4c68941a2",
   "metadata": {},
   "outputs": [
    {
     "data": {
      "image/png": "[encoded data removed]",
      "text/plain": [
       "<Figure size 432x288 with 1 Axes>"
      ]
     },
     "metadata": {
      "needs_background": "light"
     },
     "output_type": "display_data"
    }
   ],
   "source": [
    "j = masEscuchadosCanciones.keys() #convierte a la variable en una lista con las keys\n",
    "x = [j[0], j[1], j[2], j[3], j[4], j[5], j[6], j[7], j[8], j[9]] #asigna a los valores que van en el eje x/y teniendo en cuenta que esta en horizontal el grafico\n",
    "y = [masEscuchadosCanciones[0], masEscuchadosCanciones[1], masEscuchadosCanciones[2], masEscuchadosCanciones[3], masEscuchadosCanciones[4], masEscuchadosCanciones[5], masEscuchadosCanciones[6], masEscuchadosCanciones[7], masEscuchadosCanciones[8], masEscuchadosCanciones[9]]\n",
    "#asigna a los valores que van en el eje y/x teniendo en cuenta que esta en horizontal el grafico\n",
    "\n",
    "plt.barh(x, y) #crea el gráfico de barras horizontales\n",
    "plt.show() #hace que se muestre sólo el gráfico y no información adicional"
   ]
  },
  {
   "cell_type": "code",
   "execution_count": 251,
   "id": "ea655a56-456f-484d-9be6-3e2cb253b712",
   "metadata": {},
   "outputs": [
    {
     "name": "stdout",
     "output_type": "stream",
     "text": [
      "10: Las 10 canciones más escuchadas de el artista más escuchado son \n"
     ]
    },
    {
     "data": {
      "text/plain": [
       "trackName\n",
       "Yo No Quiero Volverme Tan Loco    3520431\n",
       "Hablando a Tu Corazón             3448863\n",
       "Yendo De La Cama Al Living        3066536\n",
       "Raros Peinados Nuevos             2622853\n",
       "Cerca De La Revolucion            2504346\n",
       "Nos Siguen Pegando Abajo          2497165\n",
       "Ojos De Video Tape                2183211\n",
       "Promesas Sobre El Bidet           1875831\n",
       "Demoliendo Hoteles                1765862\n",
       "Tu Amor                           1677168\n",
       "Name: msPlayed, dtype: int64"
      ]
     },
     "execution_count": 271,
     "metadata": {},
     "output_type": "execute_result"
    }
   ],
   "source": [
    "print(\"10: Las 10 canciones más escuchadas de el artista más escuchado son \")\n",
    "masEscuchadoDelMasEscuchado.head(10)"
   ]
  },
  {
   "cell_type": "code",
   "execution_count": 306,
   "id": "4eda94e5-517a-41df-9b2b-64e0cc08d052",
   "metadata": {},
   "outputs": [
    {
     "data": {
      "image/png": "[encoded data removed]",
      "text/plain": [
       "<Figure size 432x288 with 1 Axes>"
      ]
     },
     "metadata": {
      "needs_background": "light"
     },
     "output_type": "display_data"
    }
   ],
   "source": [
    "i = masEscuchadoDelMasEscuchado.keys() #convierte a la variable en una lista con las keys\n",
    "x = [i[0], i[1], i[2], i[3], i[4], i[5], i[6], i[7], i[8], i[9]] #asigna a los valores que van en el eje x/y teniendo en cuenta que esta en horizontal el grafico\n",
    "y = [masEscuchadoDelMasEscuchado[0], masEscuchadoDelMasEscuchado[1], masEscuchadoDelMasEscuchado[2], masEscuchadoDelMasEscuchado[3], masEscuchadoDelMasEscuchado[4], masEscuchadoDelMasEscuchado[5], masEscuchadoDelMasEscuchado[6], masEscuchadoDelMasEscuchado[7], masEscuchadoDelMasEscuchado[8], masEscuchadoDelMasEscuchado[9]] \n",
    "#asigna a los valores que van en el eje y/x teniendo en cuenta que esta en horizontal el grafico\n",
    "\n",
    "plt.barh(x, y) #crea el gráfico de barras horizontales\n",
    "plt.show() #hace que se muestre sólo el gráfico y no información adicional"
   ]
  },
  {
   "cell_type": "code",
   "execution_count": 321,
   "id": "556dc640-1d1b-4a42-9802-3fa4eea8e948",
   "metadata": {},
   "outputs": [
    {
     "name": "stdout",
     "output_type": "stream",
     "text": [
      "11: La canción más escuchado del segundo artista más escuchado es  Redbone  de  Childish Gambino  con  5112.705  segundos escuchados\n"
     ]
    }
   ],
   "source": [
    "print(\"11: La canción más escuchado del segundo artista más escuchado es \", masEscuchadoDelSegundoMasEscuchadoTema, \" de \", segundoMasEscuchado, \" con \", masEscuchadoDelSegundoMasEscuchado[0] / 1000, \" segundos escuchados\")"
   ]
  },
  {
   "cell_type": "code",
   "execution_count": 322,
   "id": "fff9c273-c053-48e0-89ec-83f07a5f987a",
   "metadata": {},
   "outputs": [
    {
     "name": "stdout",
     "output_type": "stream",
     "text": [
      "12: Las 10 canciones más escuchadas del segundo artista más escuchado son \n"
     ]
    },
    {
     "data": {
      "text/plain": [
       "trackName\n",
       "Redbone                                     5112705\n",
       "This Is America                             4241418\n",
       "Feels Like Summer                           3538624\n",
       "III. Telegraph Ave. (\"Oakland\" by Lloyd)    3101639\n",
       "3005                                        3046373\n",
       "Sober                                       3020127\n",
       "Me and Your Mama                            2895018\n",
       "Baby Boy                                    2788257\n",
       "California                                  1817926\n",
       "Les                                         1167636\n",
       "Name: msPlayed, dtype: int64"
      ]
     },
     "execution_count": 322,
     "metadata": {},
     "output_type": "execute_result"
    }
   ],
   "source": [
    "print(\"12: Las 10 canciones más escuchadas del segundo artista más escuchado son \")\n",
    "masEscuchadoDelSegundoMasEscuchado.head(10)"
   ]
  },
  {
   "cell_type": "code",
   "execution_count": 323,
   "id": "6cfe3096-47ee-4cd3-b38b-525b905a5184",
   "metadata": {},
   "outputs": [
    {
     "data": {
      "image/png": "[encoded data removed]",
      "text/plain": [
       "<Figure size 432x288 with 1 Axes>"
      ]
     },
     "metadata": {
      "needs_background": "light"
     },
     "output_type": "display_data"
    }
   ],
   "source": [
    "k = masEscuchadoDelSegundoMasEscuchado.keys() #convierte a la variable en una lista con las keys\n",
    "x = [k[0], k[1], k[2], k[3], k[4], k[5], k[6], k[7], k[8], k[9]] #asigna a los valores que van en el eje x/y teniendo en cuenta que esta en horizontal el grafico\n",
    "y = [masEscuchadoDelSegundoMasEscuchado[0], masEscuchadoDelSegundoMasEscuchado[1], masEscuchadoDelSegundoMasEscuchado[2], masEscuchadoDelSegundoMasEscuchado[3], masEscuchadoDelSegundoMasEscuchado[4], masEscuchadoDelSegundoMasEscuchado[5], masEscuchadoDelSegundoMasEscuchado[6], masEscuchadoDelSegundoMasEscuchado[7], masEscuchadoDelSegundoMasEscuchado[8], masEscuchadoDelSegundoMasEscuchado[9]]\n",
    "#asigna a los valores que van en el eje y/x teniendo en cuenta que esta en horizontal el grafico\n",
    "\n",
    "plt.barh(x, y) #crea el gráfico de barras horizontales\n",
    "plt.show() #hace que se muestre sólo el gráfico y no información adicional"
   ]
  },
  {
   "cell_type": "code",
   "execution_count": null,
   "id": "79211165-27c2-4a2b-b4e4-18afead9fa71",
   "metadata": {},
   "outputs": [],
   "source": []
  }
 ],
 "metadata": {
  "kernelspec": {
   "display_name": "anaconda-2022.05-py39",
   "language": "python",
   "name": "conda-env-anaconda-2022.05-py39-py"
  },
  "language_info": {
   "codemirror_mode": {
    "name": "ipython",
    "version": 3
   },
   "file_extension": ".py",
   "mimetype": "text/x-python",
   "name": "python",
   "nbconvert_exporter": "python",
   "pygments_lexer": "ipython3",
   "version": "3.9.12"
  }
 },
 "nbformat": 4,
 "nbformat_minor": 5
}
